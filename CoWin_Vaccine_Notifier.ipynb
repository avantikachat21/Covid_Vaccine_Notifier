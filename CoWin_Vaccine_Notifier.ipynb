{
  "nbformat": 4,
  "nbformat_minor": 0,
  "metadata": {
    "colab": {
      "name": "CoWin-Vaccine-Notifier.ipynb",
      "provenance": [],
      "collapsed_sections": [],
      "authorship_tag": "ABX9TyPuTdYUqu/pvXcS7LGRQdVA",
      "include_colab_link": true
    },
    "kernelspec": {
      "name": "python3",
      "display_name": "Python 3"
    },
    "language_info": {
      "name": "python"
    }
  },
  "cells": [
    {
      "cell_type": "markdown",
      "metadata": {
        "id": "view-in-github",
        "colab_type": "text"
      },
      "source": [
        "<a href=\"https://colab.research.google.com/github/avantikachat21/Covid_Vaccine_Notifier/blob/main/CoWin_Vaccine_Notifier.ipynb\" target=\"_parent\"><img src=\"https://colab.research.google.com/assets/colab-badge.svg\" alt=\"Open In Colab\"/></a>"
      ]
    },
    {
      "cell_type": "markdown",
      "metadata": {
        "id": "IVmvB856GkFf"
      },
      "source": [
        "# Script: Covid Vaccine Slot Availability Notifier"
      ]
    },
    {
      "cell_type": "code",
      "metadata": {
        "id": "vM4hbMzoGoMv"
      },
      "source": [
        "import requests\n",
        "from pygame import mixer \n",
        "from datetime import datetime, timedelta\n",
        "import time"
      ],
      "execution_count": null,
      "outputs": []
    },
    {
      "cell_type": "code",
      "metadata": {
        "id": "nnYS9GSGGtX7"
      },
      "source": [
        "age = 52\n",
        "pincodes = [\"462003\"]\n",
        "num_days = 2"
      ],
      "execution_count": null,
      "outputs": []
    },
    {
      "cell_type": "code",
      "metadata": {
        "id": "Rua6apSiG0ks"
      },
      "source": [
        "print_flag = 'Y'"
      ],
      "execution_count": null,
      "outputs": []
    },
    {
      "cell_type": "code",
      "metadata": {
        "id": "7Msv7GdVG44u"
      },
      "source": [
        "print(\"Starting search for Covid vaccine slots!\")"
      ],
      "execution_count": null,
      "outputs": []
    },
    {
      "cell_type": "code",
      "metadata": {
        "id": "RV41cx4aG9Nd"
      },
      "source": [
        "actual = datetime.today()"
      ],
      "execution_count": null,
      "outputs": []
    },
    {
      "cell_type": "code",
      "metadata": {
        "id": "2p06REDvG_0w"
      },
      "source": [
        "list_format = [actual + timedelta(days=i) for i in range(num_days)]\n",
        "actual_dates = [i.strftime(\"%d-%m-%Y\") for i in list_format]"
      ],
      "execution_count": null,
      "outputs": []
    },
    {
      "cell_type": "code",
      "metadata": {
        "id": "CWzhicAGEbP_"
      },
      "source": [
        "while True:\n",
        "    counter = 0   \n",
        "    for pincode in pincodes:   \n",
        "        for given_date in actual_dates:\n",
        "\n",
        "            URL = \"https://cdn-api.co-vin.in/api/v2/appointment/sessions/public/calendarByPin?pincode={}&date={}\".format(pincode, given_date)\n",
        "            header = {'User-Agent': 'Mozilla/5.0 (Windows NT 6.1; WOW64) AppleWebKit/537.36 (KHTML, like Gecko) Chrome/56.0.2924.76 Safari/537.36'} \n",
        "            \n",
        "            result = requests.get(URL, headers=header)\n",
        "\n",
        "            if result.ok:\n",
        "                response_json = result.json()\n",
        "                if response_json[\"centers\"]:\n",
        "                    if(print_flag.lower() =='y'):\n",
        "                        for center in response_json[\"centers\"]:\n",
        "                            for session in center[\"sessions\"]:\n",
        "                                if (session[\"min_age_limit\"] <= age and session[\"available_capacity\"] > 0 ) :\n",
        "                                    print('Pincode: ' + pincode)\n",
        "                                    print(\"Available on: {}\".format(given_date))\n",
        "                                    print(\"\\t\", center[\"name\"])\n",
        "                                    print(\"\\t\", center[\"block_name\"])\n",
        "                                    print(\"\\t Price: \", center[\"fee_type\"])\n",
        "                                    print(\"\\t Availablity : \", session[\"available_capacity\"])\n",
        "\n",
        "                                    if(session[\"vaccine\"] != ''):\n",
        "                                        print(\"\\t Vaccine type: \", session[\"vaccine\"])\n",
        "                                    print(\"\\n\")\n",
        "                                    counter = counter + 1\n",
        "            else:\n",
        "                print(\"No Response!\")\n",
        "                \n",
        "    if counter:\n",
        "        print(\"No Vaccination slot available!\")\n",
        "    else:\n",
        "        mixer.init()\n",
        "        mixer.music.load('sound/dingdong.wav')\n",
        "        mixer.music.play()\n",
        "        print(\"Search Completed!\")\n",
        "\n",
        "    dt = datetime.now() + timedelta(minutes=3)\n",
        "\n",
        "    while datetime.now() < dt:\n",
        "        time.sleep(1)"
      ],
      "execution_count": null,
      "outputs": []
    }
  ]
}